{
 "cells": [
  {
   "cell_type": "markdown",
   "metadata": {},
   "source": [
    "#### Import libraries and data"
   ]
  },
  {
   "cell_type": "code",
   "execution_count": 29,
   "metadata": {},
   "outputs": [],
   "source": [
    "import pandas as pd\n",
    "from sklearn.model_selection import train_test_split\n",
    "from sklearn.linear_model import LinearRegression\n",
    "from sklearn.metrics import mean_squared_error, r2_score\n",
    "import datetime\n",
    "\n",
    "data = pd.read_csv(\"../data/historical_weather.csv\")"
   ]
  },
  {
   "cell_type": "markdown",
   "metadata": {},
   "source": [
    "#### Clean data"
   ]
  },
  {
   "cell_type": "code",
   "execution_count": 30,
   "metadata": {},
   "outputs": [],
   "source": [
    "# rename columns to readable names\n",
    "data.rename(columns={\n",
    "  \"temperature_2m_max (°C)\": \"max_temp\",\n",
    "  \"temperature_2m_min (°C)\": \"min_temp\",\n",
    "  \"temperature_2m_mean (°C)\": \"mean_temp\",\n",
    "  \"precipitation_sum (mm)\": \"precipitation\"\n",
    "}, inplace=True)\n",
    "\n",
    "# parse date into separate year, month, day\n",
    "data[\"year\"] = pd.to_datetime(data[\"time\"]).dt.year\n",
    "data[\"month\"] = pd.to_datetime(data[\"time\"]).dt.month\n",
    "data[\"day\"] = pd.to_datetime(data[\"time\"]).dt.day"
   ]
  },
  {
   "cell_type": "markdown",
   "metadata": {},
   "source": [
    "#### Prepare datasets for ML model"
   ]
  },
  {
   "cell_type": "code",
   "execution_count": null,
   "metadata": {},
   "outputs": [],
   "source": [
    "# X = input for ML prediction\n",
    "# y = output for ML prediction\n",
    "# example: predict temp for 2045-22-23 (X) = 25°C (y)\n",
    "X = data[[\"year\", \"month\", \"day\"]] # input: date\n",
    "y = data[[\"mean_temp\"]] # output: mean temp\n",
    "# y = data[[\"max_temp\", \"min_temp\", \"mean_temp\", \"precipitation\"]] # output: temps\n",
    "\n",
    "# clean data: remove invalid dates\n",
    "y = y.dropna()\n",
    "X = X.iloc[y.index]\n",
    "\n",
    "# generate datasets to train and test model (80% train, 20% test)\n",
    "X_train, X_test, y_train, y_test = train_test_split(X, y, test_size=0.2, random_state=42)"
   ]
  },
  {
   "cell_type": "markdown",
   "metadata": {},
   "source": [
    "#### Train and test ML model (Linear regression)"
   ]
  },
  {
   "cell_type": "code",
   "execution_count": null,
   "metadata": {},
   "outputs": [],
   "source": [
    "# train ML model using linear regression algorithm\n",
    "lr = LinearRegression()\n",
    "lr.fit(X_train, y_train)\n",
    "\n",
    "# predict on train and test datasets\n",
    "y_lr_train_pred = lr.predict(X_train)\n",
    "y_lr_test_pred = lr.predict(X_test)\n",
    "\n",
    "# prediction results\n",
    "lr_train_mse = mean_squared_error(y_train, y_lr_train_pred)\n",
    "lr_train_r2 = r2_score(y_train, y_lr_train_pred)\n",
    "lr_test_mse = mean_squared_error(y_test, y_lr_test_pred)\n",
    "lr_test_r2 = r2_score(y_test, y_lr_test_pred)"
   ]
  },
  {
   "cell_type": "markdown",
   "metadata": {},
   "source": [
    "#### Prediction on real data (future dates)"
   ]
  },
  {
   "cell_type": "code",
   "execution_count": null,
   "metadata": {},
   "outputs": [],
   "source": [
    "# generate dates (X) to predict (dates after 2023)\n",
    "start_date = datetime.date(2023, 1, 1)\n",
    "end_date = datetime.date(2050, 12, 31)\n",
    "\n",
    "dates = []\n",
    "current_date = start_date\n",
    "while current_date <= end_date:\n",
    "  dates.append([current_date.year, current_date.month, current_date.day])\n",
    "  current_date += datetime.timedelta(days=1)\n",
    "\n",
    "# convert dates to dataframe\n",
    "dates_to_predict = pd.DataFrame(dates)\n",
    "dates_to_predict.rename(columns={\n",
    "  0: \"year\",\n",
    "  1: \"month\",\n",
    "  2: \"day\"\n",
    "}, inplace=True)"
   ]
  },
  {
   "cell_type": "markdown",
   "metadata": {},
   "source": [
    "#### Predict temperature for future dates"
   ]
  },
  {
   "cell_type": "code",
   "execution_count": null,
   "metadata": {},
   "outputs": [
    {
     "data": {
      "text/plain": [
       "array([[ 9.77421895],\n",
       "       [ 9.7751808 ],\n",
       "       [ 9.77614265],\n",
       "       ...,\n",
       "       [15.60939687],\n",
       "       [15.61035872],\n",
       "       [15.61132056]])"
      ]
     },
     "execution_count": 6,
     "metadata": {},
     "output_type": "execute_result"
    }
   ],
   "source": [
    "# generate predictions using ML linear regression model\n",
    "future_temps = lr.predict(dates_to_predict)\n",
    "\n",
    "future_temps"
   ]
  },
  {
   "cell_type": "markdown",
   "metadata": {},
   "source": [
    "#### Visualizzare predizioni"
   ]
  },
  {
   "cell_type": "code",
   "execution_count": null,
   "metadata": {},
   "outputs": [
    {
     "ename": "NameError",
     "evalue": "name 'plt' is not defined",
     "output_type": "error",
     "traceback": [
      "\u001b[0;31m---------------------------------------------------------------------------\u001b[0m",
      "\u001b[0;31mNameError\u001b[0m                                 Traceback (most recent call last)",
      "Cell \u001b[0;32mIn[10], line 9\u001b[0m\n\u001b[1;32m      6\u001b[0m trend_line \u001b[39m=\u001b[39m annual_average\u001b[39m.\u001b[39mrolling(window\u001b[39m=\u001b[39m\u001b[39m5\u001b[39m, min_periods\u001b[39m=\u001b[39m\u001b[39m1\u001b[39m)\u001b[39m.\u001b[39mmean()\n\u001b[1;32m      8\u001b[0m \u001b[39m# Plot the annual average using dots and the trendline\u001b[39;00m\n\u001b[0;32m----> 9\u001b[0m plt\u001b[39m.\u001b[39mfigure(figsize\u001b[39m=\u001b[39m(\u001b[39m10\u001b[39m, \u001b[39m6\u001b[39m))\n\u001b[1;32m     10\u001b[0m plt\u001b[39m.\u001b[39mplot(\n\u001b[1;32m     11\u001b[0m   annual_average\u001b[39m.\u001b[39mindex,\n\u001b[1;32m     12\u001b[0m   annual_average\u001b[39m.\u001b[39mvalues,\n\u001b[0;32m   (...)\u001b[0m\n\u001b[1;32m     15\u001b[0m   linestyle\u001b[39m=\u001b[39m\u001b[39m'\u001b[39m\u001b[39mnone\u001b[39m\u001b[39m'\u001b[39m\n\u001b[1;32m     16\u001b[0m )\n\u001b[1;32m     17\u001b[0m plt\u001b[39m.\u001b[39mplot(\n\u001b[1;32m     18\u001b[0m   trend_line\u001b[39m.\u001b[39mindex,\n\u001b[1;32m     19\u001b[0m   trend_line\u001b[39m.\u001b[39mvalues,\n\u001b[1;32m     20\u001b[0m   color\u001b[39m=\u001b[39m\u001b[39m'\u001b[39m\u001b[39morange\u001b[39m\u001b[39m'\u001b[39m,\n\u001b[1;32m     21\u001b[0m   label\u001b[39m=\u001b[39m\u001b[39m'\u001b[39m\u001b[39mTrend\u001b[39m\u001b[39m'\u001b[39m\n\u001b[1;32m     22\u001b[0m )\n",
      "\u001b[0;31mNameError\u001b[0m: name 'plt' is not defined"
     ]
    }
   ],
   "source": [
    "# temperatura media per ogni anno\n",
    "annual_average = data[\"mean_temp\"].resample('Y').mean()\n",
    "pd.DataFrame(annual_average)\n",
    "\n",
    "# trend line\n",
    "trend_line = annual_average.rolling(window=5, min_periods=1).mean()\n",
    "\n",
    "# Plot the annual average using dots and the trendline\n",
    "plt.figure(figsize=(10, 6))\n",
    "plt.plot(\n",
    "  annual_average.index,\n",
    "  annual_average.values,\n",
    "  marker='o',\n",
    "  label='Annual Average Temperature',\n",
    "  linestyle='none'\n",
    ")\n",
    "plt.plot(\n",
    "  trend_line.index,\n",
    "  trend_line.values,\n",
    "  color='orange',\n",
    "  label='Trend'\n",
    ")\n",
    "plt.xlabel('Year')\n",
    "plt.ylabel('Average Temperature °C')\n",
    "plt.title('Annual Average')\n",
    "plt.legend()\n",
    "plt.show()"
   ]
  }
 ],
 "metadata": {
  "kernelspec": {
   "display_name": "Python 3 (ipykernel)",
   "language": "python",
   "name": "python3"
  },
  "language_info": {
   "codemirror_mode": {
    "name": "ipython",
    "version": 3
   },
   "file_extension": ".py",
   "mimetype": "text/x-python",
   "name": "python",
   "nbconvert_exporter": "python",
   "pygments_lexer": "ipython3",
   "version": "3.11.4"
  },
  "orig_nbformat": 4
 },
 "nbformat": 4,
 "nbformat_minor": 2
}
